{
 "cells": [
  {
   "cell_type": "markdown",
   "metadata": {},
   "source": [
    "# HW_3"
   ]
  },
  {
   "cell_type": "code",
   "execution_count": 1,
   "metadata": {},
   "outputs": [],
   "source": [
    "import requests\n",
    "import re\n",
    "from pymystem3 import Mystem\n",
    "import gensim\n",
    "from sklearn.decomposition import PCA\n",
    "import matplotlib.pyplot as plt\n",
    "import urllib.request\n",
    "from nltk.corpus import stopwords"
   ]
  },
  {
   "cell_type": "markdown",
   "metadata": {},
   "source": [
    "### 1. Предобработка текста М.Ю. Лермонтова \"Герой нашего времени\". "
   ]
  },
  {
   "cell_type": "code",
   "execution_count": 2,
   "metadata": {},
   "outputs": [],
   "source": [
    "tragedy_text = requests.get('http://lib.ru/INPROZ/DRAJZER/tragedy.txt').text\n",
    "tragedy_text = re.sub('<.*?>', '', tragedy_text)\n",
    "tragedy_text = tragedy_text.replace(' -', '')\n",
    "tragedy_text = tragedy_text.replace(',', '')\n",
    "tragedy_text = tragedy_text.replace(':', '')\n",
    "tragedy_text = tragedy_text.replace(';', '')\n",
    "tragedy_text = tragedy_text.replace('(', '')\n",
    "tragedy_text = tragedy_text.replace(')', '')\n",
    "tragedy_text = tragedy_text.replace('[', '')\n",
    "tragedy_text = tragedy_text.replace(']', '')\n",
    "tragedy_text = tragedy_text.replace('\"', '').split('\\n')\n",
    "tragedy_text = ' '.join(tragedy_text[16:-6]).lower()\n",
    "tragedy_text = re.split(r'\\?|\\.|!', tragedy_text)\n",
    "    \n",
    "# tragedy_sentences хранит список предложений текста\n",
    "tragedy_sentences = [elem.strip() for elem in tragedy_text if elem != '']"
   ]
  },
  {
   "cell_type": "markdown",
   "metadata": {},
   "source": [
    "**Лемматизирую предложения**"
   ]
  },
  {
   "cell_type": "code",
   "execution_count": 3,
   "metadata": {},
   "outputs": [],
   "source": [
    "tragedy_lemmas = []\n",
    "m = Mystem()\n",
    "for sentence in tragedy_sentences:\n",
    "    tragedy_lemmas.append((''.join(m.lemmatize(sentence))).strip())"
   ]
  },
  {
   "cell_type": "code",
   "execution_count": 4,
   "metadata": {},
   "outputs": [],
   "source": [
    "with open('American_Tragedy', 'a', encoding='utf-8') as f:\n",
    "    for elem in tragedy_lemmas:\n",
    "        f.write(elem+'\\n')"
   ]
  },
  {
   "cell_type": "markdown",
   "metadata": {},
   "source": [
    "### 2. Обучаю модель по параметрам:\n",
    "* размер вектора 300\n",
    "* минимальное количество вхождений 5\n",
    "* окно 5\n",
    "* количество итераций 50\n"
   ]
  },
  {
   "cell_type": "code",
   "execution_count": 5,
   "metadata": {},
   "outputs": [],
   "source": [
    "# data = gensim.models.word2vec.LineSentence('American_tragedy')\n",
    "# model_tragedy = gensim.models.Word2Vec(data, size=300, window=5, min_count=5, iter=50)"
   ]
  },
  {
   "cell_type": "markdown",
   "metadata": {},
   "source": [
    "**Вопрос:** сколько получилось слов в этой модели?\n",
    "\n",
    "**Ответ:**"
   ]
  },
  {
   "cell_type": "code",
   "execution_count": 6,
   "metadata": {},
   "outputs": [
    {
     "data": {
      "text/plain": [
       "4548"
      ]
     },
     "execution_count": 6,
     "metadata": {},
     "output_type": "execute_result"
    }
   ],
   "source": [
    "len(model_tragedy.wv.vocab)"
   ]
  },
  {
   "cell_type": "markdown",
   "metadata": {},
   "source": [
    "### 3. Использую следующие функции:"
   ]
  },
  {
   "cell_type": "markdown",
   "metadata": {},
   "source": [
    "**3.1 Модель находит ближайшие 5 слов для:**"
   ]
  },
  {
   "cell_type": "markdown",
   "metadata": {},
   "source": [
    "* любого частотного слова (союза/местоимения/частицы) "
   ]
  },
  {
   "cell_type": "code",
   "execution_count": 7,
   "metadata": {},
   "outputs": [
    {
     "data": {
      "text/plain": [
       "[('вы', 0.6113125085830688),\n",
       " ('ты', 0.566344141960144),\n",
       " ('мы', 0.5325111746788025),\n",
       " ('мама', 0.5287609100341797),\n",
       " ('папа', 0.5104323625564575)]"
      ]
     },
     "execution_count": 7,
     "metadata": {},
     "output_type": "execute_result"
    }
   ],
   "source": [
    "model_tragedy.wv.most_similar('я', topn=5)"
   ]
  },
  {
   "cell_type": "markdown",
   "metadata": {},
   "source": [
    "* абстрактного понятия "
   ]
  },
  {
   "cell_type": "code",
   "execution_count": 8,
   "metadata": {},
   "outputs": [
    {
     "data": {
      "text/plain": [
       "[('страдание', 0.5394915342330933),\n",
       " ('страсть', 0.5220407843589783),\n",
       " ('красота', 0.5202223062515259),\n",
       " ('мечта', 0.5004864931106567),\n",
       " ('влечение', 0.4931797385215759)]"
      ]
     },
     "execution_count": 8,
     "metadata": {},
     "output_type": "execute_result"
    }
   ],
   "source": [
    "model_tragedy.wv.most_similar('любовь', topn=5)"
   ]
  },
  {
   "cell_type": "markdown",
   "metadata": {},
   "source": [
    "* имени главного героя "
   ]
  },
  {
   "cell_type": "code",
   "execution_count": 9,
   "metadata": {},
   "outputs": [
    {
     "data": {
      "text/plain": [
       "[('он', 0.5719074606895447),\n",
       " ('она', 0.38191044330596924),\n",
       " ('сэмюэл', 0.30346113443374634),\n",
       " ('гортензия', 0.2816394567489624),\n",
       " ('смилль', 0.2747874855995178)]"
      ]
     },
     "execution_count": 9,
     "metadata": {},
     "output_type": "execute_result"
    }
   ],
   "source": [
    "model_tragedy.wv.most_similar('клайд', topn=5)"
   ]
  },
  {
   "cell_type": "code",
   "execution_count": 10,
   "metadata": {},
   "outputs": [
    {
     "data": {
      "text/plain": [
       "[('пейтон', 0.5991516709327698),\n",
       " ('говард', 0.5888392925262451),\n",
       " ('брейли', 0.5752055048942566),\n",
       " ('каппи', 0.5686697959899902),\n",
       " ('гилпин', 0.527441143989563)]"
      ]
     },
     "execution_count": 10,
     "metadata": {},
     "output_type": "execute_result"
    }
   ],
   "source": [
    "model_tragedy.wv.most_similar('грифитс', topn=5)"
   ]
  },
  {
   "cell_type": "markdown",
   "metadata": {},
   "source": [
    "* прилагательных \"хороший\" и \"плохой\" (или любых других антонимов) "
   ]
  },
  {
   "cell_type": "code",
   "execution_count": 11,
   "metadata": {},
   "outputs": [
    {
     "data": {
      "text/plain": [
       "[('приятный', 0.40122732520103455),\n",
       " ('обыкновенный', 0.3259519338607788),\n",
       " ('замечательный', 0.3247135579586029),\n",
       " ('дешевый', 0.3204612135887146),\n",
       " ('недурной', 0.3175209164619446)]"
      ]
     },
     "execution_count": 11,
     "metadata": {},
     "output_type": "execute_result"
    }
   ],
   "source": [
    "model_tragedy.wv.most_similar('хороший', topn=5)"
   ]
  },
  {
   "cell_type": "code",
   "execution_count": 12,
   "metadata": {},
   "outputs": [
    {
     "data": {
      "text/plain": [
       "[('пытка', 0.5150730609893799),\n",
       " ('страшный', 0.49625349044799805),\n",
       " ('внезапный', 0.44788092374801636),\n",
       " ('безнадежный', 0.43461987376213074),\n",
       " ('приключение', 0.43278467655181885)]"
      ]
     },
     "execution_count": 12,
     "metadata": {},
     "output_type": "execute_result"
    }
   ],
   "source": [
    "model_tragedy.wv.most_similar('ужасный', topn=5)"
   ]
  },
  {
   "cell_type": "markdown",
   "metadata": {},
   "source": [
    "_Комментарий_\n",
    "- Модель хорошо сработала для местоимения _я_, показав возможные синонимы.  \n",
    "- Модель для абстрактного понятия нашла (вполне себе) синонимы: _страсть, влечение, романтика_. \n",
    "- К фамилии главного героя модель подобрала в качестве синонимов другие встречабщиеся в тексте фамилии. \n",
    "- Для _хороший_ модель подобрала синонимы _приятный, приличный, солидный, недурной_ , а для _плохой_ : _страшный_."
   ]
  },
  {
   "cell_type": "markdown",
   "metadata": {},
   "source": [
    "**3.2 Модель находит семантическую пропорцию**"
   ]
  },
  {
   "cell_type": "markdown",
   "metadata": {},
   "source": [
    "**Выберу следующую пропорцию:** _богатый - сэмюэл : бедный - клайд._ Выбираю эту пару, так как ее элементы наиболее противоположны друг другу, модель должна это заметить и выдать правильный результат. \n",
    "\n",
    "*Сэмюэл - богатый дядя главного героя, Клайда. А Клайд крайне беден. \n",
    "\n",
    "*Я обучала модель несколько раз, примечательно, что в первый раз модель сработала верно."
   ]
  },
  {
   "cell_type": "code",
   "execution_count": 13,
   "metadata": {},
   "outputs": [
    {
     "data": {
      "text/plain": [
       "[('он', 0.41551071405410767), ('сэмюэл', 0.2905289828777313)]"
      ]
     },
     "execution_count": 13,
     "metadata": {},
     "output_type": "execute_result"
    }
   ],
   "source": [
    "model_tragedy.wv.most_similar(positive=['богатый', 'клайд'], negative=['бедный'])[0:2]"
   ]
  },
  {
   "cell_type": "markdown",
   "metadata": {},
   "source": [
    "**Выберу следующую пропорцию:** _богатый - сэмюэл : бедный - эйса (лемматизирован как эйс)._ Выбираю эту пару, так как ее элементы наиболее противоположны друг другу, модель должна это заметить и выдать правильный результат. \n",
    "\n",
    "*Сэмюэл - богатый фабрикант. Эйс(а) - бедный."
   ]
  },
  {
   "cell_type": "code",
   "execution_count": 14,
   "metadata": {},
   "outputs": [
    {
     "data": {
      "text/plain": [
       "[('фабрикант', 0.4547841548919678), ('ликургский', 0.4446631073951721)]"
      ]
     },
     "execution_count": 14,
     "metadata": {},
     "output_type": "execute_result"
    }
   ],
   "source": [
    "model_tragedy.wv.most_similar(positive=['бедный', 'сэмюэл'], negative=['эйс'])[0:2]"
   ]
  },
  {
   "cell_type": "markdown",
   "metadata": {},
   "source": [
    "**3.3 Модель находит лишнее в списке слов**"
   ]
  },
  {
   "cell_type": "markdown",
   "metadata": {},
   "source": [
    "Роберта, Сондра, Гортензия - девушки, с которыми у главного героя Клайда были отношения. Сэмюэл - дядя Клайда. Лишний Сэмюэл. "
   ]
  },
  {
   "cell_type": "code",
   "execution_count": 15,
   "metadata": {},
   "outputs": [
    {
     "name": "stderr",
     "output_type": "stream",
     "text": [
      "/Users/mariabocharova/opt/anaconda3/lib/python3.8/site-packages/gensim/models/keyedvectors.py:877: FutureWarning: arrays to stack must be passed as a \"sequence\" type such as list or tuple. Support for non-sequence iterables such as generators is deprecated as of NumPy 1.16 and will raise an error in the future.\n",
      "  vectors = vstack(self.word_vec(word, use_norm=True) for word in used_words).astype(REAL)\n"
     ]
    },
    {
     "data": {
      "text/plain": [
       "'сэмюэл'"
      ]
     },
     "execution_count": 15,
     "metadata": {},
     "output_type": "execute_result"
    }
   ],
   "source": [
    "model_tragedy.wv.doesnt_match('роберта сондра гортензия сэмюэл'.split())"
   ]
  },
  {
   "cell_type": "markdown",
   "metadata": {},
   "source": [
    "Лишняя - Сондра, так как Клайд не убивал ее. "
   ]
  },
  {
   "cell_type": "code",
   "execution_count": 16,
   "metadata": {},
   "outputs": [
    {
     "data": {
      "text/plain": [
       "'сондра'"
      ]
     },
     "execution_count": 16,
     "metadata": {},
     "output_type": "execute_result"
    }
   ],
   "source": [
    "model_tragedy.wv.doesnt_match('тело река убийство сондра'.split())"
   ]
  },
  {
   "cell_type": "markdown",
   "metadata": {},
   "source": [
    "_Комментарий_\n",
    "\n",
    "Хороший результат, модель!"
   ]
  },
  {
   "cell_type": "markdown",
   "metadata": {},
   "source": [
    "### 4. Делаю визуализацию с помощью PCA\n",
    "попробуйте на именах героев (4+ имен, можно брать имя и фамилию героя отдельно, это даже интересно): это отражает их отношения / их характеры?"
   ]
  },
  {
   "cell_type": "code",
   "execution_count": 39,
   "metadata": {},
   "outputs": [
    {
     "data": {
      "image/png": "[encoded data removed]",
      "text/plain": [
       "<Figure size 432x288 with 1 Axes>"
      ]
     },
     "metadata": {
      "needs_background": "light"
     },
     "output_type": "display_data"
    }
   ],
   "source": [
    "names = ['клайд', 'роберта', 'сондра', 'сэмюэл', 'эйс', 'гортензия']\n",
    "\n",
    "words = [name.lower().strip() for name in names if name in model_tragedy.wv.vocab]\n",
    "not_in_vocab = [name for name in names if name not in model_tragedy.wv.vocab]\n",
    "not_in_vocab = ', '.join([\"'\"+elem+\"'\" for elem in not_in_vocab])\n",
    "if len(not_in_vocab) > 0:\n",
    "    print(f'К сожалению, {not_in_vocab} нет в словаре.')\n",
    "\n",
    "X = model_tragedy.wv.__getitem__(words)\n",
    "\n",
    "pca = PCA(n_components=2)\n",
    "coords = pca.fit_transform(X)\n",
    "\n",
    "plt.scatter(coords[:, 0], coords[:, 1], color='blue')\n",
    "plt.title('Names\\n')\n",
    "\n",
    "for i, word in enumerate(words):\n",
    "    plt.annotate(word, xy=(coords[i, 0], coords[i, 1]))\n",
    "plt.show()"
   ]
  },
  {
   "cell_type": "markdown",
   "metadata": {},
   "source": [
    "_Комментарии_\n",
    "\n",
    "Модель отражает отношения героев: Сэмюэл, Эйс(а) и Клайд - родственники. "
   ]
  },
  {
   "cell_type": "markdown",
   "metadata": {},
   "source": [
    "### 5. Заменяю все слова (кроме служебных) из предложения на ближайшие по векторам"
   ]
  },
  {
   "cell_type": "code",
   "execution_count": 40,
   "metadata": {},
   "outputs": [
    {
     "name": "stdout",
     "output_type": "stream",
     "text": [
      "ведь вы же представлять многие еврей за вы наблюдать\n"
     ]
    }
   ],
   "source": [
    "stops = set(stopwords.words('russian') + [\n",
    "    'это', 'весь', 'который', 'мочь', \n",
    "    'свой', 'ещё', 'всё', 'оно', 'то', \n",
    "    'кто', 'что'\n",
    "])\n",
    "\n",
    "# Стоп-слова оставляю на месте, а если слово не входит в model_tragedy.wv.vocab, то ставлю '_'.\n",
    "sentence1 = 'ведь вы же позволять многий парень за вы ухаживать'\n",
    "sentence1_new = []\n",
    "for word in sentence1.split():\n",
    "    if word not in stops and word in model_tragedy.wv.vocab:\n",
    "        sentence1_new.append(str(model_tragedy.wv.most_similar(word, topn=1)[0][0]))\n",
    "    elif word in stops:\n",
    "        sentence1_new.append(word)\n",
    "    elif word not in stops and word not in model_tragedy.wv.vocab:\n",
    "        sentence1_new.append('_')\n",
    "sentence1_new = ' '.join(sentence1_new)\n",
    "print(sentence1_new)"
   ]
  }
 ],
 "metadata": {
  "kernelspec": {
   "display_name": "Python 3",
   "language": "python",
   "name": "python3"
  },
  "language_info": {
   "codemirror_mode": {
    "name": "ipython",
    "version": 3
   },
   "file_extension": ".py",
   "mimetype": "text/x-python",
   "name": "python",
   "nbconvert_exporter": "python",
   "pygments_lexer": "ipython3",
   "version": "3.8.3"
  }
 },
 "nbformat": 4,
 "nbformat_minor": 4
}
